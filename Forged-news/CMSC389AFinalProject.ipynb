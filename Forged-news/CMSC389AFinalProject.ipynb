{
  "nbformat": 4,
  "nbformat_minor": 0,
  "metadata": {
    "colab": {
      "name": "CMSC389AFinalProject.ipynb",
      "version": "0.3.2",
      "views": {},
      "default_view": {},
      "provenance": [],
      "collapsed_sections": []
    },
    "kernelspec": {
      "name": "python3",
      "display_name": "Python 3"
    },
    "accelerator": "GPU"
  },
  "cells": [
    {
      "metadata": {
        "id": "C4fWkC9ilcpe",
        "colab_type": "text"
      },
      "cell_type": "markdown",
      "source": [
        "# Kush Nagpal Final Project"
      ]
    },
    {
      "metadata": {
        "id": "AicvjZ1JcowN",
        "colab_type": "text"
      },
      "cell_type": "markdown",
      "source": [
        "# Introduction\n",
        "In this project, I am using the title of articles found on the Internet to detect if an article is real news or fake news.  Determining which news articles are trustworthy and which are not is actually difficult for a lot of people, so I thought creating an LSTM to help classify news as real or fake would be beneficial.\n",
        "\n",
        "# Imports"
      ]
    },
    {
      "metadata": {
        "id": "NYzoC8RwlevF",
        "colab_type": "code",
        "colab": {
          "autoexec": {
            "startup": false,
            "wait_interval": 0
          },
          "base_uri": "https://localhost:8080/",
          "height": 401
        },
        "outputId": "89c8e122-b2d9-43a7-b9dd-e4eee1cdfe18",
        "executionInfo": {
          "status": "ok",
          "timestamp": 1526593995903,
          "user_tz": 240,
          "elapsed": 5419,
          "user": {
            "displayName": "Kush Nagpal",
            "photoUrl": "//lh4.googleusercontent.com/-7bx2xE98CTA/AAAAAAAAAAI/AAAAAAAAABs/CuZMTlvv8mg/s50-c-k-no/photo.jpg",
            "userId": "116287702491871222972"
          }
        }
      },
      "cell_type": "code",
      "source": [
        "import numpy as np\n",
        "import pandas as pd\n",
        "import json as j\n",
        "import urllib\n",
        "import gzip\n",
        "import nltk\n",
        "\n",
        "nltk.download('stopwords')\n",
        "from nltk.stem import PorterStemmer\n",
        "from sklearn.model_selection import train_test_split\n",
        "!pip install gensim\n",
        "from gensim.models import KeyedVectors\n",
        "from nltk.corpus import stopwords\n",
        "\n",
        "from keras.models import Model\n",
        "from keras.callbacks import EarlyStopping, ModelCheckpoint\n",
        "from keras.layers import Dense, Input, LSTM, Embedding, Dropout, Activation\n",
        "from keras.layers.merge import concatenate\n",
        "from keras.layers.normalization import BatchNormalization\n",
        "from keras.preprocessing import sequence\n",
        "from keras.preprocessing.text import Tokenizer\n",
        "from keras.preprocessing.sequence import pad_sequences"
      ],
      "execution_count": 0,
      "outputs": [
        {
          "output_type": "stream",
          "text": [
            "[nltk_data] Downloading package stopwords to /content/nltk_data...\n",
            "[nltk_data]   Package stopwords is already up-to-date!\n",
            "Requirement already satisfied: gensim in /usr/local/lib/python3.6/dist-packages (3.4.0)\n",
            "Requirement already satisfied: six>=1.5.0 in /usr/local/lib/python3.6/dist-packages (from gensim) (1.11.0)\n",
            "Requirement already satisfied: scipy>=0.18.1 in /usr/local/lib/python3.6/dist-packages (from gensim) (0.19.1)\n",
            "Requirement already satisfied: numpy>=1.11.3 in /usr/local/lib/python3.6/dist-packages (from gensim) (1.14.3)\n",
            "Requirement already satisfied: smart-open>=1.2.1 in /usr/local/lib/python3.6/dist-packages (from gensim) (1.5.7)\n",
            "Requirement already satisfied: bz2file in /usr/local/lib/python3.6/dist-packages (from smart-open>=1.2.1->gensim) (0.98)\n",
            "Requirement already satisfied: boto>=2.32 in /usr/local/lib/python3.6/dist-packages (from smart-open>=1.2.1->gensim) (2.48.0)\n",
            "Requirement already satisfied: requests in /usr/local/lib/python3.6/dist-packages (from smart-open>=1.2.1->gensim) (2.18.4)\n",
            "Requirement already satisfied: boto3 in /usr/local/lib/python3.6/dist-packages (from smart-open>=1.2.1->gensim) (1.7.22)\n",
            "Requirement already satisfied: urllib3<1.23,>=1.21.1 in /usr/local/lib/python3.6/dist-packages (from requests->smart-open>=1.2.1->gensim) (1.22)\n",
            "Requirement already satisfied: idna<2.7,>=2.5 in /usr/local/lib/python3.6/dist-packages (from requests->smart-open>=1.2.1->gensim) (2.6)\n",
            "Requirement already satisfied: chardet<3.1.0,>=3.0.2 in /usr/local/lib/python3.6/dist-packages (from requests->smart-open>=1.2.1->gensim) (3.0.4)\n",
            "Requirement already satisfied: certifi>=2017.4.17 in /usr/local/lib/python3.6/dist-packages (from requests->smart-open>=1.2.1->gensim) (2018.4.16)\n",
            "Requirement already satisfied: jmespath<1.0.0,>=0.7.1 in /usr/local/lib/python3.6/dist-packages (from boto3->smart-open>=1.2.1->gensim) (0.9.3)\n",
            "Requirement already satisfied: botocore<1.11.0,>=1.10.22 in /usr/local/lib/python3.6/dist-packages (from boto3->smart-open>=1.2.1->gensim) (1.10.22)\n",
            "Requirement already satisfied: s3transfer<0.2.0,>=0.1.10 in /usr/local/lib/python3.6/dist-packages (from boto3->smart-open>=1.2.1->gensim) (0.1.13)\n",
            "Requirement already satisfied: python-dateutil<3.0.0,>=2.1; python_version >= \"2.7\" in /usr/local/lib/python3.6/dist-packages (from botocore<1.11.0,>=1.10.22->boto3->smart-open>=1.2.1->gensim) (2.5.3)\n",
            "Requirement already satisfied: docutils>=0.10 in /usr/local/lib/python3.6/dist-packages (from botocore<1.11.0,>=1.10.22->boto3->smart-open>=1.2.1->gensim) (0.14)\n"
          ],
          "name": "stdout"
        },
        {
          "output_type": "stream",
          "text": [
            "Using TensorFlow backend.\n"
          ],
          "name": "stderr"
        }
      ]
    },
    {
      "metadata": {
        "id": "Cx12qbiKeD4E",
        "colab_type": "text"
      },
      "cell_type": "markdown",
      "source": [
        "# Data scanning and parsing\n",
        "\n",
        "I retrieved my data from a csv file fake_or_real_news.csv.  This consists of the title and text of a select group of news articles.  It then contains a label field which indicates whether the news is real or fake.  In this code block, I scan the csv and clean the titles to filter out stop words and punctuation.\n"
      ]
    },
    {
      "metadata": {
        "id": "jBB5Orrhlq67",
        "colab_type": "code",
        "colab": {
          "autoexec": {
            "startup": false,
            "wait_interval": 0
          },
          "base_uri": "https://localhost:8080/",
          "height": 1949
        },
        "outputId": "7e9b5d36-c2f1-4df1-ecbe-2fc53b1cb846",
        "executionInfo": {
          "status": "ok",
          "timestamp": 1526594004512,
          "user_tz": 240,
          "elapsed": 8585,
          "user": {
            "displayName": "Kush Nagpal",
            "photoUrl": "//lh4.googleusercontent.com/-7bx2xE98CTA/AAAAAAAAAAI/AAAAAAAAABs/CuZMTlvv8mg/s50-c-k-no/photo.jpg",
            "userId": "116287702491871222972"
          }
        }
      },
      "cell_type": "code",
      "source": [
        "import re\n",
        "#import sys  \n",
        "\n",
        "#reload(sys)  \n",
        "#sys.setdefaultencoding('utf8')\n",
        "\n",
        "\n",
        "import string\n",
        "from sklearn.feature_extraction.text import CountVectorizer\n",
        "def clean_text(text):\n",
        "    #text = [w.strip() for w in text.readlines()]\n",
        "    #text.decode('unicode_escape').encode('ascii','ignore')\n",
        "    text = str(text)\n",
        "    #text = text.decode(\"utf8\")\n",
        "    \n",
        "    text =  text.split()\n",
        "    words = []\n",
        "    for word in text:\n",
        "      exclude = set(string.punctuation)\n",
        "      word = ''.join(ch for ch in word if ch not in exclude)\n",
        "      if word in stops:\n",
        "        continue\n",
        "      try: \n",
        "        words.append(ps.stem(word))\n",
        "      except UnicodeDecodeError:\n",
        "        words.append(word)\n",
        "    text = \" \".join(words)\n",
        "    \n",
        "    \n",
        "    return text.lower()\n",
        "\n",
        "\n",
        "#Process data\n",
        "\n",
        "stops = set(stopwords.words(\"english\"))\n",
        "\n",
        "ps = PorterStemmer()\n",
        "\n",
        "dataset = 'https://www.dropbox.com/s/bxix43wtl06vs74/fake_or_real_news.csv?dl=1'\n",
        "\n",
        "f = pd.read_csv(dataset)  \n",
        "\n",
        "f.label = f.label.map(dict(REAL=1, FAKE=0))\n",
        "\n",
        "f"
      ],
      "execution_count": 0,
      "outputs": [
        {
          "output_type": "execute_result",
          "data": {
            "text/html": [
              "<div>\n",
              "<style scoped>\n",
              "    .dataframe tbody tr th:only-of-type {\n",
              "        vertical-align: middle;\n",
              "    }\n",
              "\n",
              "    .dataframe tbody tr th {\n",
              "        vertical-align: top;\n",
              "    }\n",
              "\n",
              "    .dataframe thead th {\n",
              "        text-align: right;\n",
              "    }\n",
              "</style>\n",
              "<table border=\"1\" class=\"dataframe\">\n",
              "  <thead>\n",
              "    <tr style=\"text-align: right;\">\n",
              "      <th></th>\n",
              "      <th>Unnamed: 0</th>\n",
              "      <th>title</th>\n",
              "      <th>text</th>\n",
              "      <th>label</th>\n",
              "    </tr>\n",
              "  </thead>\n",
              "  <tbody>\n",
              "    <tr>\n",
              "      <th>0</th>\n",
              "      <td>8476</td>\n",
              "      <td>You Can Smell Hillary’s Fear</td>\n",
              "      <td>Daniel Greenfield, a Shillman Journalism Fello...</td>\n",
              "      <td>0</td>\n",
              "    </tr>\n",
              "    <tr>\n",
              "      <th>1</th>\n",
              "      <td>10294</td>\n",
              "      <td>Watch The Exact Moment Paul Ryan Committed Pol...</td>\n",
              "      <td>Google Pinterest Digg Linkedin Reddit Stumbleu...</td>\n",
              "      <td>0</td>\n",
              "    </tr>\n",
              "    <tr>\n",
              "      <th>2</th>\n",
              "      <td>3608</td>\n",
              "      <td>Kerry to go to Paris in gesture of sympathy</td>\n",
              "      <td>U.S. Secretary of State John F. Kerry said Mon...</td>\n",
              "      <td>1</td>\n",
              "    </tr>\n",
              "    <tr>\n",
              "      <th>3</th>\n",
              "      <td>10142</td>\n",
              "      <td>Bernie supporters on Twitter erupt in anger ag...</td>\n",
              "      <td>— Kaydee King (@KaydeeKing) November 9, 2016 T...</td>\n",
              "      <td>0</td>\n",
              "    </tr>\n",
              "    <tr>\n",
              "      <th>4</th>\n",
              "      <td>875</td>\n",
              "      <td>The Battle of New York: Why This Primary Matters</td>\n",
              "      <td>It's primary day in New York and front-runners...</td>\n",
              "      <td>1</td>\n",
              "    </tr>\n",
              "    <tr>\n",
              "      <th>5</th>\n",
              "      <td>6903</td>\n",
              "      <td>Tehran, USA</td>\n",
              "      <td>\\nI’m not an immigrant, but my grandparents ...</td>\n",
              "      <td>0</td>\n",
              "    </tr>\n",
              "    <tr>\n",
              "      <th>6</th>\n",
              "      <td>7341</td>\n",
              "      <td>Girl Horrified At What She Watches Boyfriend D...</td>\n",
              "      <td>Share This Baylee Luciani (left), Screenshot o...</td>\n",
              "      <td>0</td>\n",
              "    </tr>\n",
              "    <tr>\n",
              "      <th>7</th>\n",
              "      <td>95</td>\n",
              "      <td>‘Britain’s Schindler’ Dies at 106</td>\n",
              "      <td>A Czech stockbroker who saved more than 650 Je...</td>\n",
              "      <td>1</td>\n",
              "    </tr>\n",
              "    <tr>\n",
              "      <th>8</th>\n",
              "      <td>4869</td>\n",
              "      <td>Fact check: Trump and Clinton at the 'commande...</td>\n",
              "      <td>Hillary Clinton and Donald Trump made some ina...</td>\n",
              "      <td>1</td>\n",
              "    </tr>\n",
              "    <tr>\n",
              "      <th>9</th>\n",
              "      <td>2909</td>\n",
              "      <td>Iran reportedly makes new push for uranium con...</td>\n",
              "      <td>Iranian negotiators reportedly have made a las...</td>\n",
              "      <td>1</td>\n",
              "    </tr>\n",
              "    <tr>\n",
              "      <th>10</th>\n",
              "      <td>1357</td>\n",
              "      <td>With all three Clintons in Iowa, a glimpse at ...</td>\n",
              "      <td>CEDAR RAPIDS, Iowa — “I had one of the most wo...</td>\n",
              "      <td>1</td>\n",
              "    </tr>\n",
              "    <tr>\n",
              "      <th>11</th>\n",
              "      <td>988</td>\n",
              "      <td>Donald Trump’s Shockingly Weak Delegate Game S...</td>\n",
              "      <td>Donald Trump’s organizational problems have go...</td>\n",
              "      <td>1</td>\n",
              "    </tr>\n",
              "    <tr>\n",
              "      <th>12</th>\n",
              "      <td>7041</td>\n",
              "      <td>Strong Solar Storm, Tech Risks Today | S0 News...</td>\n",
              "      <td>Click Here To Learn More About Alexandra's Per...</td>\n",
              "      <td>0</td>\n",
              "    </tr>\n",
              "    <tr>\n",
              "      <th>13</th>\n",
              "      <td>7623</td>\n",
              "      <td>10 Ways America Is Preparing for World War 3</td>\n",
              "      <td>October 31, 2016 at 4:52 am \\nPretty factual e...</td>\n",
              "      <td>0</td>\n",
              "    </tr>\n",
              "    <tr>\n",
              "      <th>14</th>\n",
              "      <td>1571</td>\n",
              "      <td>Trump takes on Cruz, but lightly</td>\n",
              "      <td>Killing Obama administration rules, dismantlin...</td>\n",
              "      <td>1</td>\n",
              "    </tr>\n",
              "    <tr>\n",
              "      <th>15</th>\n",
              "      <td>4739</td>\n",
              "      <td>How women lead differently</td>\n",
              "      <td>As more women move into high offices, they oft...</td>\n",
              "      <td>1</td>\n",
              "    </tr>\n",
              "    <tr>\n",
              "      <th>16</th>\n",
              "      <td>7737</td>\n",
              "      <td>Shocking! Michele Obama &amp; Hillary Caught Glamo...</td>\n",
              "      <td>Shocking! Michele Obama &amp; Hillary Caught Glamo...</td>\n",
              "      <td>0</td>\n",
              "    </tr>\n",
              "    <tr>\n",
              "      <th>17</th>\n",
              "      <td>8716</td>\n",
              "      <td>Hillary Clinton in HUGE Trouble After America ...</td>\n",
              "      <td>0 \\nHillary Clinton has barely just lost the p...</td>\n",
              "      <td>0</td>\n",
              "    </tr>\n",
              "    <tr>\n",
              "      <th>18</th>\n",
              "      <td>3304</td>\n",
              "      <td>What's in that Iran bill that Obama doesn't like?</td>\n",
              "      <td>Washington (CNN) For months, the White House a...</td>\n",
              "      <td>1</td>\n",
              "    </tr>\n",
              "    <tr>\n",
              "      <th>19</th>\n",
              "      <td>3078</td>\n",
              "      <td>The 1 chart that explains everything you need ...</td>\n",
              "      <td>While paging through Pew's best data visualiza...</td>\n",
              "      <td>1</td>\n",
              "    </tr>\n",
              "    <tr>\n",
              "      <th>20</th>\n",
              "      <td>2517</td>\n",
              "      <td>The slippery slope to Trump’s proposed ban on ...</td>\n",
              "      <td>With little fanfare this fall, the New York de...</td>\n",
              "      <td>1</td>\n",
              "    </tr>\n",
              "    <tr>\n",
              "      <th>21</th>\n",
              "      <td>10348</td>\n",
              "      <td>Episode #160 – SUNDAY WIRE: ‘Hail to the Deplo...</td>\n",
              "      <td>November 13, 2016 By 21wire Leave a Comment \\n...</td>\n",
              "      <td>0</td>\n",
              "    </tr>\n",
              "    <tr>\n",
              "      <th>22</th>\n",
              "      <td>778</td>\n",
              "      <td>Hillary Clinton Makes A Bipartisan Appeal on S...</td>\n",
              "      <td>Hillary Clinton told a Staten Island crowd tod...</td>\n",
              "      <td>1</td>\n",
              "    </tr>\n",
              "    <tr>\n",
              "      <th>23</th>\n",
              "      <td>3300</td>\n",
              "      <td>New Senate majority leader’s main goal for GOP...</td>\n",
              "      <td>Mitch McConnell has an unusual admonition for ...</td>\n",
              "      <td>1</td>\n",
              "    </tr>\n",
              "    <tr>\n",
              "      <th>24</th>\n",
              "      <td>6155</td>\n",
              "      <td>‘Inferno’ and the Overpopulation Myth</td>\n",
              "      <td>Mises.org November 1, 2016 Inferno is a great ...</td>\n",
              "      <td>0</td>\n",
              "    </tr>\n",
              "    <tr>\n",
              "      <th>25</th>\n",
              "      <td>636</td>\n",
              "      <td>Anti-Trump forces seek last-ditch delegate revolt</td>\n",
              "      <td>Washington (CNN) The faction of the GOP that i...</td>\n",
              "      <td>1</td>\n",
              "    </tr>\n",
              "    <tr>\n",
              "      <th>26</th>\n",
              "      <td>755</td>\n",
              "      <td>Sanders Trounces Clinton in W. Va. -- But Will...</td>\n",
              "      <td>Meanwhile, Democrat Bernie Sanders picked up m...</td>\n",
              "      <td>1</td>\n",
              "    </tr>\n",
              "    <tr>\n",
              "      <th>27</th>\n",
              "      <td>626</td>\n",
              "      <td>Donald Trump Is Changing His Campaign Slogan t...</td>\n",
              "      <td>After a week of nonstop criticism from Democra...</td>\n",
              "      <td>1</td>\n",
              "    </tr>\n",
              "    <tr>\n",
              "      <th>28</th>\n",
              "      <td>691</td>\n",
              "      <td>Pure chaos: Donald Trump’s campaign management...</td>\n",
              "      <td>If you want a glimpse into a presidential cand...</td>\n",
              "      <td>1</td>\n",
              "    </tr>\n",
              "    <tr>\n",
              "      <th>29</th>\n",
              "      <td>5743</td>\n",
              "      <td>Syrian War Report – November 1, 2016: Syrian M...</td>\n",
              "      <td>Syrian War Report – October 31, 2016: Al-Nusra...</td>\n",
              "      <td>0</td>\n",
              "    </tr>\n",
              "    <tr>\n",
              "      <th>...</th>\n",
              "      <td>...</td>\n",
              "      <td>...</td>\n",
              "      <td>...</td>\n",
              "      <td>...</td>\n",
              "    </tr>\n",
              "    <tr>\n",
              "      <th>6305</th>\n",
              "      <td>6457</td>\n",
              "      <td>Colin Kaepernick hosts ‘Know Your Rights’ camp...</td>\n",
              "      <td>Print \\n[Ed. – Now teaching the gospel of raci...</td>\n",
              "      <td>0</td>\n",
              "    </tr>\n",
              "    <tr>\n",
              "      <th>6306</th>\n",
              "      <td>7030</td>\n",
              "      <td>Wikileaks Emails Disclose Aliens Linked to Vat...</td>\n",
              "      <td>Sound too “strange” to be true? We have proof!...</td>\n",
              "      <td>0</td>\n",
              "    </tr>\n",
              "    <tr>\n",
              "      <th>6307</th>\n",
              "      <td>9013</td>\n",
              "      <td>US abstains from UN vote calling for end to Cu...</td>\n",
              "      <td>US abstains from UN vote calling for end to Cu...</td>\n",
              "      <td>0</td>\n",
              "    </tr>\n",
              "    <tr>\n",
              "      <th>6308</th>\n",
              "      <td>9509</td>\n",
              "      <td>West Ham fans laud aerodynamic properties of n...</td>\n",
              "      <td>Tuesday 1 November 2016 by Formelia Alberthine...</td>\n",
              "      <td>0</td>\n",
              "    </tr>\n",
              "    <tr>\n",
              "      <th>6309</th>\n",
              "      <td>3825</td>\n",
              "      <td>How the Obama White House runs foreign policy</td>\n",
              "      <td>When Susan E. Rice took over as President Obam...</td>\n",
              "      <td>1</td>\n",
              "    </tr>\n",
              "    <tr>\n",
              "      <th>6310</th>\n",
              "      <td>4515</td>\n",
              "      <td>ISIS claims responsibility for Garland, Texas,...</td>\n",
              "      <td>(CNN) ISIS has claimed responsibility for the ...</td>\n",
              "      <td>1</td>\n",
              "    </tr>\n",
              "    <tr>\n",
              "      <th>6311</th>\n",
              "      <td>2747</td>\n",
              "      <td>The “blame the left” crew: What the right’s ne...</td>\n",
              "      <td>It was inevitable that liberals would end up b...</td>\n",
              "      <td>1</td>\n",
              "    </tr>\n",
              "    <tr>\n",
              "      <th>6312</th>\n",
              "      <td>6516</td>\n",
              "      <td>ADHD NATION: How Big Pharma Created the ADHD E...</td>\n",
              "      <td>By Kalee Brown\\nWhile I was at university, man...</td>\n",
              "      <td>0</td>\n",
              "    </tr>\n",
              "    <tr>\n",
              "      <th>6313</th>\n",
              "      <td>9636</td>\n",
              "      <td>Donald Trump claims the election will be 'rigg...</td>\n",
              "      <td>Email \\nDonald Trump is again riling up his vo...</td>\n",
              "      <td>0</td>\n",
              "    </tr>\n",
              "    <tr>\n",
              "      <th>6314</th>\n",
              "      <td>7398</td>\n",
              "      <td>REPORT: Dirty Reporter Blackmails Montel… Help...</td>\n",
              "      <td>BREAKING: Trump Jumps in FL, Takes 4 Point Lea...</td>\n",
              "      <td>0</td>\n",
              "    </tr>\n",
              "    <tr>\n",
              "      <th>6315</th>\n",
              "      <td>3717</td>\n",
              "      <td>Police Arrest Suspect In Charleston Church Sho...</td>\n",
              "      <td>Police in Charleston, S.C., say a man they sus...</td>\n",
              "      <td>1</td>\n",
              "    </tr>\n",
              "    <tr>\n",
              "      <th>6316</th>\n",
              "      <td>5205</td>\n",
              "      <td>Donald Trump’s collapse was caused by one big ...</td>\n",
              "      <td>Silver of FiveThirtyEight.com has laid out fou...</td>\n",
              "      <td>1</td>\n",
              "    </tr>\n",
              "    <tr>\n",
              "      <th>6317</th>\n",
              "      <td>6696</td>\n",
              "      <td>FINA suspends Russian swimmer for 8 years over...</td>\n",
              "      <td>This post was originally published on this sit...</td>\n",
              "      <td>0</td>\n",
              "    </tr>\n",
              "    <tr>\n",
              "      <th>6318</th>\n",
              "      <td>7991</td>\n",
              "      <td>BREAKING : Hillary Campaign Manager Deletes hi...</td>\n",
              "      <td>BREAKING : Hillary Campaign Manager Deletes hi...</td>\n",
              "      <td>0</td>\n",
              "    </tr>\n",
              "    <tr>\n",
              "      <th>6319</th>\n",
              "      <td>1303</td>\n",
              "      <td>Why Ted Cruz Has the Most to Lose in New Hamps...</td>\n",
              "      <td>Ted Cruz took first prize in the Iowa caucuses...</td>\n",
              "      <td>1</td>\n",
              "    </tr>\n",
              "    <tr>\n",
              "      <th>6320</th>\n",
              "      <td>9051</td>\n",
              "      <td>“Nothing Good Can Come of This Election”–and T...</td>\n",
              "      <td>Posted on November 4, 2016 by Charles Hugh Smi...</td>\n",
              "      <td>0</td>\n",
              "    </tr>\n",
              "    <tr>\n",
              "      <th>6321</th>\n",
              "      <td>10200</td>\n",
              "      <td>List of Republicans opposing Trump | OffGuardian</td>\n",
              "      <td>Charlie Baker , Massachusetts (2015–present)[3...</td>\n",
              "      <td>0</td>\n",
              "    </tr>\n",
              "    <tr>\n",
              "      <th>6322</th>\n",
              "      <td>10009</td>\n",
              "      <td>Putin: Use of 'mythical' Russian military thre...</td>\n",
              "      <td>vladimir putin , Valdai , sochi , RBTH Daily R...</td>\n",
              "      <td>0</td>\n",
              "    </tr>\n",
              "    <tr>\n",
              "      <th>6323</th>\n",
              "      <td>4214</td>\n",
              "      <td>Bernie Sanders says private meeting with Pope ...</td>\n",
              "      <td>ROME —  U.S. Democratic presidential candidate...</td>\n",
              "      <td>1</td>\n",
              "    </tr>\n",
              "    <tr>\n",
              "      <th>6324</th>\n",
              "      <td>2316</td>\n",
              "      <td>Alabama Lawmaker: Same-Sex Couples Don’t Deser...</td>\n",
              "      <td>Most conservatives who oppose marriage equalit...</td>\n",
              "      <td>1</td>\n",
              "    </tr>\n",
              "    <tr>\n",
              "      <th>6325</th>\n",
              "      <td>8411</td>\n",
              "      <td>Will the Media Reset After the Election or Are...</td>\n",
              "      <td>Written by Peter Van Buren   venerable New Yor...</td>\n",
              "      <td>0</td>\n",
              "    </tr>\n",
              "    <tr>\n",
              "      <th>6326</th>\n",
              "      <td>6143</td>\n",
              "      <td>DOJ COMPLAINT: Comey Under Fire Over Partisan ...</td>\n",
              "      <td>DOJ COMPLAINT: Comey Under Fire Over Partisan ...</td>\n",
              "      <td>0</td>\n",
              "    </tr>\n",
              "    <tr>\n",
              "      <th>6327</th>\n",
              "      <td>3262</td>\n",
              "      <td>GOP Senator David Perdue Jokes About Praying f...</td>\n",
              "      <td>The freshman senator from Georgia quoted scrip...</td>\n",
              "      <td>1</td>\n",
              "    </tr>\n",
              "    <tr>\n",
              "      <th>6328</th>\n",
              "      <td>9337</td>\n",
              "      <td>Radio Derb Is On The Air–Leonardo And Brazil’s...</td>\n",
              "      <td></td>\n",
              "      <td>0</td>\n",
              "    </tr>\n",
              "    <tr>\n",
              "      <th>6329</th>\n",
              "      <td>8737</td>\n",
              "      <td>Assange claims ‘crazed’ Clinton campaign tried...</td>\n",
              "      <td>Julian Assange has claimed the Hillary Clinton...</td>\n",
              "      <td>0</td>\n",
              "    </tr>\n",
              "    <tr>\n",
              "      <th>6330</th>\n",
              "      <td>4490</td>\n",
              "      <td>State Department says it can't find emails fro...</td>\n",
              "      <td>The State Department told the Republican Natio...</td>\n",
              "      <td>1</td>\n",
              "    </tr>\n",
              "    <tr>\n",
              "      <th>6331</th>\n",
              "      <td>8062</td>\n",
              "      <td>The ‘P’ in PBS Should Stand for ‘Plutocratic’ ...</td>\n",
              "      <td>The ‘P’ in PBS Should Stand for ‘Plutocratic’ ...</td>\n",
              "      <td>0</td>\n",
              "    </tr>\n",
              "    <tr>\n",
              "      <th>6332</th>\n",
              "      <td>8622</td>\n",
              "      <td>Anti-Trump Protesters Are Tools of the Oligarc...</td>\n",
              "      <td>Anti-Trump Protesters Are Tools of the Oligar...</td>\n",
              "      <td>0</td>\n",
              "    </tr>\n",
              "    <tr>\n",
              "      <th>6333</th>\n",
              "      <td>4021</td>\n",
              "      <td>In Ethiopia, Obama seeks progress on peace, se...</td>\n",
              "      <td>ADDIS ABABA, Ethiopia —President Obama convene...</td>\n",
              "      <td>1</td>\n",
              "    </tr>\n",
              "    <tr>\n",
              "      <th>6334</th>\n",
              "      <td>4330</td>\n",
              "      <td>Jeb Bush Is Suddenly Attacking Trump. Here's W...</td>\n",
              "      <td>Jeb Bush Is Suddenly Attacking Trump. Here's W...</td>\n",
              "      <td>1</td>\n",
              "    </tr>\n",
              "  </tbody>\n",
              "</table>\n",
              "<p>6335 rows × 4 columns</p>\n",
              "</div>"
            ],
            "text/plain": [
              "      Unnamed: 0                                              title  \\\n",
              "0           8476                       You Can Smell Hillary’s Fear   \n",
              "1          10294  Watch The Exact Moment Paul Ryan Committed Pol...   \n",
              "2           3608        Kerry to go to Paris in gesture of sympathy   \n",
              "3          10142  Bernie supporters on Twitter erupt in anger ag...   \n",
              "4            875   The Battle of New York: Why This Primary Matters   \n",
              "5           6903                                        Tehran, USA   \n",
              "6           7341  Girl Horrified At What She Watches Boyfriend D...   \n",
              "7             95                  ‘Britain’s Schindler’ Dies at 106   \n",
              "8           4869  Fact check: Trump and Clinton at the 'commande...   \n",
              "9           2909  Iran reportedly makes new push for uranium con...   \n",
              "10          1357  With all three Clintons in Iowa, a glimpse at ...   \n",
              "11           988  Donald Trump’s Shockingly Weak Delegate Game S...   \n",
              "12          7041  Strong Solar Storm, Tech Risks Today | S0 News...   \n",
              "13          7623       10 Ways America Is Preparing for World War 3   \n",
              "14          1571                   Trump takes on Cruz, but lightly   \n",
              "15          4739                         How women lead differently   \n",
              "16          7737  Shocking! Michele Obama & Hillary Caught Glamo...   \n",
              "17          8716  Hillary Clinton in HUGE Trouble After America ...   \n",
              "18          3304  What's in that Iran bill that Obama doesn't like?   \n",
              "19          3078  The 1 chart that explains everything you need ...   \n",
              "20          2517  The slippery slope to Trump’s proposed ban on ...   \n",
              "21         10348  Episode #160 – SUNDAY WIRE: ‘Hail to the Deplo...   \n",
              "22           778  Hillary Clinton Makes A Bipartisan Appeal on S...   \n",
              "23          3300  New Senate majority leader’s main goal for GOP...   \n",
              "24          6155              ‘Inferno’ and the Overpopulation Myth   \n",
              "25           636  Anti-Trump forces seek last-ditch delegate revolt   \n",
              "26           755  Sanders Trounces Clinton in W. Va. -- But Will...   \n",
              "27           626  Donald Trump Is Changing His Campaign Slogan t...   \n",
              "28           691  Pure chaos: Donald Trump’s campaign management...   \n",
              "29          5743  Syrian War Report – November 1, 2016: Syrian M...   \n",
              "...          ...                                                ...   \n",
              "6305        6457  Colin Kaepernick hosts ‘Know Your Rights’ camp...   \n",
              "6306        7030  Wikileaks Emails Disclose Aliens Linked to Vat...   \n",
              "6307        9013  US abstains from UN vote calling for end to Cu...   \n",
              "6308        9509  West Ham fans laud aerodynamic properties of n...   \n",
              "6309        3825      How the Obama White House runs foreign policy   \n",
              "6310        4515  ISIS claims responsibility for Garland, Texas,...   \n",
              "6311        2747  The “blame the left” crew: What the right’s ne...   \n",
              "6312        6516  ADHD NATION: How Big Pharma Created the ADHD E...   \n",
              "6313        9636  Donald Trump claims the election will be 'rigg...   \n",
              "6314        7398  REPORT: Dirty Reporter Blackmails Montel… Help...   \n",
              "6315        3717  Police Arrest Suspect In Charleston Church Sho...   \n",
              "6316        5205  Donald Trump’s collapse was caused by one big ...   \n",
              "6317        6696  FINA suspends Russian swimmer for 8 years over...   \n",
              "6318        7991  BREAKING : Hillary Campaign Manager Deletes hi...   \n",
              "6319        1303  Why Ted Cruz Has the Most to Lose in New Hamps...   \n",
              "6320        9051  “Nothing Good Can Come of This Election”–and T...   \n",
              "6321       10200   List of Republicans opposing Trump | OffGuardian   \n",
              "6322       10009  Putin: Use of 'mythical' Russian military thre...   \n",
              "6323        4214  Bernie Sanders says private meeting with Pope ...   \n",
              "6324        2316  Alabama Lawmaker: Same-Sex Couples Don’t Deser...   \n",
              "6325        8411  Will the Media Reset After the Election or Are...   \n",
              "6326        6143  DOJ COMPLAINT: Comey Under Fire Over Partisan ...   \n",
              "6327        3262  GOP Senator David Perdue Jokes About Praying f...   \n",
              "6328        9337  Radio Derb Is On The Air–Leonardo And Brazil’s...   \n",
              "6329        8737  Assange claims ‘crazed’ Clinton campaign tried...   \n",
              "6330        4490  State Department says it can't find emails fro...   \n",
              "6331        8062  The ‘P’ in PBS Should Stand for ‘Plutocratic’ ...   \n",
              "6332        8622  Anti-Trump Protesters Are Tools of the Oligarc...   \n",
              "6333        4021  In Ethiopia, Obama seeks progress on peace, se...   \n",
              "6334        4330  Jeb Bush Is Suddenly Attacking Trump. Here's W...   \n",
              "\n",
              "                                                   text  label  \n",
              "0     Daniel Greenfield, a Shillman Journalism Fello...      0  \n",
              "1     Google Pinterest Digg Linkedin Reddit Stumbleu...      0  \n",
              "2     U.S. Secretary of State John F. Kerry said Mon...      1  \n",
              "3     — Kaydee King (@KaydeeKing) November 9, 2016 T...      0  \n",
              "4     It's primary day in New York and front-runners...      1  \n",
              "5       \\nI’m not an immigrant, but my grandparents ...      0  \n",
              "6     Share This Baylee Luciani (left), Screenshot o...      0  \n",
              "7     A Czech stockbroker who saved more than 650 Je...      1  \n",
              "8     Hillary Clinton and Donald Trump made some ina...      1  \n",
              "9     Iranian negotiators reportedly have made a las...      1  \n",
              "10    CEDAR RAPIDS, Iowa — “I had one of the most wo...      1  \n",
              "11    Donald Trump’s organizational problems have go...      1  \n",
              "12    Click Here To Learn More About Alexandra's Per...      0  \n",
              "13    October 31, 2016 at 4:52 am \\nPretty factual e...      0  \n",
              "14    Killing Obama administration rules, dismantlin...      1  \n",
              "15    As more women move into high offices, they oft...      1  \n",
              "16    Shocking! Michele Obama & Hillary Caught Glamo...      0  \n",
              "17    0 \\nHillary Clinton has barely just lost the p...      0  \n",
              "18    Washington (CNN) For months, the White House a...      1  \n",
              "19    While paging through Pew's best data visualiza...      1  \n",
              "20    With little fanfare this fall, the New York de...      1  \n",
              "21    November 13, 2016 By 21wire Leave a Comment \\n...      0  \n",
              "22    Hillary Clinton told a Staten Island crowd tod...      1  \n",
              "23    Mitch McConnell has an unusual admonition for ...      1  \n",
              "24    Mises.org November 1, 2016 Inferno is a great ...      0  \n",
              "25    Washington (CNN) The faction of the GOP that i...      1  \n",
              "26    Meanwhile, Democrat Bernie Sanders picked up m...      1  \n",
              "27    After a week of nonstop criticism from Democra...      1  \n",
              "28    If you want a glimpse into a presidential cand...      1  \n",
              "29    Syrian War Report – October 31, 2016: Al-Nusra...      0  \n",
              "...                                                 ...    ...  \n",
              "6305  Print \\n[Ed. – Now teaching the gospel of raci...      0  \n",
              "6306  Sound too “strange” to be true? We have proof!...      0  \n",
              "6307  US abstains from UN vote calling for end to Cu...      0  \n",
              "6308  Tuesday 1 November 2016 by Formelia Alberthine...      0  \n",
              "6309  When Susan E. Rice took over as President Obam...      1  \n",
              "6310  (CNN) ISIS has claimed responsibility for the ...      1  \n",
              "6311  It was inevitable that liberals would end up b...      1  \n",
              "6312  By Kalee Brown\\nWhile I was at university, man...      0  \n",
              "6313  Email \\nDonald Trump is again riling up his vo...      0  \n",
              "6314  BREAKING: Trump Jumps in FL, Takes 4 Point Lea...      0  \n",
              "6315  Police in Charleston, S.C., say a man they sus...      1  \n",
              "6316  Silver of FiveThirtyEight.com has laid out fou...      1  \n",
              "6317  This post was originally published on this sit...      0  \n",
              "6318  BREAKING : Hillary Campaign Manager Deletes hi...      0  \n",
              "6319  Ted Cruz took first prize in the Iowa caucuses...      1  \n",
              "6320  Posted on November 4, 2016 by Charles Hugh Smi...      0  \n",
              "6321  Charlie Baker , Massachusetts (2015–present)[3...      0  \n",
              "6322  vladimir putin , Valdai , sochi , RBTH Daily R...      0  \n",
              "6323  ROME —  U.S. Democratic presidential candidate...      1  \n",
              "6324  Most conservatives who oppose marriage equalit...      1  \n",
              "6325  Written by Peter Van Buren   venerable New Yor...      0  \n",
              "6326  DOJ COMPLAINT: Comey Under Fire Over Partisan ...      0  \n",
              "6327  The freshman senator from Georgia quoted scrip...      1  \n",
              "6328                                                         0  \n",
              "6329  Julian Assange has claimed the Hillary Clinton...      0  \n",
              "6330  The State Department told the Republican Natio...      1  \n",
              "6331  The ‘P’ in PBS Should Stand for ‘Plutocratic’ ...      0  \n",
              "6332   Anti-Trump Protesters Are Tools of the Oligar...      0  \n",
              "6333  ADDIS ABABA, Ethiopia —President Obama convene...      1  \n",
              "6334  Jeb Bush Is Suddenly Attacking Trump. Here's W...      1  \n",
              "\n",
              "[6335 rows x 4 columns]"
            ]
          },
          "metadata": {
            "tags": []
          },
          "execution_count": 2
        }
      ]
    },
    {
      "metadata": {
        "id": "-ekZAfrUezTb",
        "colab_type": "text"
      },
      "cell_type": "markdown",
      "source": [
        "# Text Cleaning"
      ]
    },
    {
      "metadata": {
        "id": "-7RaXfigMGdG",
        "colab_type": "code",
        "colab": {
          "autoexec": {
            "startup": false,
            "wait_interval": 0
          },
          "base_uri": "https://localhost:8080/",
          "height": 35
        },
        "outputId": "494d6510-93d7-49dd-aa5b-edfa333ae8e4",
        "executionInfo": {
          "status": "ok",
          "timestamp": 1526594004897,
          "user_tz": 240,
          "elapsed": 278,
          "user": {
            "displayName": "Kush Nagpal",
            "photoUrl": "//lh4.googleusercontent.com/-7bx2xE98CTA/AAAAAAAAAAI/AAAAAAAAABs/CuZMTlvv8mg/s50-c-k-no/photo.jpg",
            "userId": "116287702491871222972"
          }
        }
      },
      "cell_type": "code",
      "source": [
        "f = f[1:100]\n",
        "\n",
        "X_train, X_test, y_train, y_test = train_test_split(f['title'], f.label, test_size=0.2)\n",
        "\n",
        "X_cleaned_train = [clean_text(x) for x in X_train]\n",
        "\n",
        "X_cleaned_test = [clean_text(x) for x in X_test]\n",
        "\n",
        "\n",
        "\n",
        "X_cleaned_train[0]"
      ],
      "execution_count": 0,
      "outputs": [
        {
          "output_type": "execute_result",
          "data": {
            "text/plain": [
              "'whi it’ necessari to relax into a stretch'"
            ]
          },
          "metadata": {
            "tags": []
          },
          "execution_count": 3
        }
      ]
    },
    {
      "metadata": {
        "id": "zrNYRsOZf3Ga",
        "colab_type": "text"
      },
      "cell_type": "markdown",
      "source": [
        "# Tokenizer\n",
        "\n",
        "Here I tokenize the data to assign indices to words, and filter out infrequent words.  This allows me to generate sequences for my training and testing data."
      ]
    },
    {
      "metadata": {
        "id": "lP7ihnc9dnjg",
        "colab_type": "code",
        "colab": {
          "autoexec": {
            "startup": false,
            "wait_interval": 0
          },
          "base_uri": "https://localhost:8080/",
          "height": 69
        },
        "outputId": "da296eb3-04fe-453f-8b9f-621396178243",
        "executionInfo": {
          "status": "ok",
          "timestamp": 1526594005473,
          "user_tz": 240,
          "elapsed": 264,
          "user": {
            "displayName": "Kush Nagpal",
            "photoUrl": "//lh4.googleusercontent.com/-7bx2xE98CTA/AAAAAAAAAAI/AAAAAAAAABs/CuZMTlvv8mg/s50-c-k-no/photo.jpg",
            "userId": "116287702491871222972"
          }
        }
      },
      "cell_type": "code",
      "source": [
        "import tokenize\n",
        "from keras.preprocessing.text import Tokenizer\n",
        "\n",
        "MAX_NB_WORDS = 20000\n",
        "tokenizer = Tokenizer(num_words=MAX_NB_WORDS)\n",
        "tokenizer.fit_on_texts(X_cleaned_train + X_cleaned_test)\n",
        "print('Finished Building Tokenizer')\n",
        "\n",
        "train_sequence = tokenizer.texts_to_sequences(X_cleaned_train)\n",
        "print('Finished Tokenizing Training')\n",
        "\n",
        "test_sequence = tokenizer.texts_to_sequences(X_cleaned_test)\n",
        "print('Finished Tokenizing Training')"
      ],
      "execution_count": 0,
      "outputs": [
        {
          "output_type": "stream",
          "text": [
            "Finished Building Tokenizer\n",
            "Finished Tokenizing Training\n",
            "Finished Tokenizing Training\n"
          ],
          "name": "stdout"
        }
      ]
    },
    {
      "metadata": {
        "id": "7KnevBjnhU_L",
        "colab_type": "text"
      },
      "cell_type": "markdown",
      "source": [
        "# Embedding Matrix\n",
        "I am using an embedding matrix to extract the semantic information from the words in each title."
      ]
    },
    {
      "metadata": {
        "id": "AvfGiOSpKci0",
        "colab_type": "code",
        "colab": {
          "autoexec": {
            "startup": false,
            "wait_interval": 0
          },
          "base_uri": "https://localhost:8080/",
          "height": 35
        },
        "outputId": "ed810d67-0a6e-4d86-e910-6346a154b2bc",
        "executionInfo": {
          "status": "ok",
          "timestamp": 1526594160175,
          "user_tz": 240,
          "elapsed": 154393,
          "user": {
            "displayName": "Kush Nagpal",
            "photoUrl": "//lh4.googleusercontent.com/-7bx2xE98CTA/AAAAAAAAAAI/AAAAAAAAABs/CuZMTlvv8mg/s50-c-k-no/photo.jpg",
            "userId": "116287702491871222972"
          }
        }
      },
      "cell_type": "code",
      "source": [
        "from gensim.models import KeyedVectors\n",
        "EMBEDDING_FILE = 'https://s3.amazonaws.com/dl4j-distribution/GoogleNews-vectors-negative300.bin.gz'\n",
        "word2vec = KeyedVectors.load_word2vec_format(EMBEDDING_FILE, binary=True)\n",
        "word_index = tokenizer.word_index\n",
        "print('Found %s unique tokens' % len(word_index))\n",
        "\n",
        "nb_words = min(20000, len(word_index))\n",
        "\n",
        "embedding_matrix = np.zeros((nb_words, 300))\n",
        "\n",
        "\n",
        "for word, i in word_index.items():\n",
        "    try:\n",
        "      embedding_vector = word2vec.word_vec(word)\n",
        "      if embedding_vector is not None and i < 7000:\n",
        "        embedding_matrix[i] = embedding_vector\n",
        "    except (KeyError, IndexError) as e:\n",
        "      continue"
      ],
      "execution_count": 0,
      "outputs": [
        {
          "output_type": "stream",
          "text": [
            "Found 606 unique tokens\n"
          ],
          "name": "stdout"
        }
      ]
    },
    {
      "metadata": {
        "id": "b7G7TK_YigAp",
        "colab_type": "text"
      },
      "cell_type": "markdown",
      "source": [
        "# Building the Model\n",
        "\n",
        "Here I create the model using an Embedding layer, LSTM, Dropout, and Dense layers.  I am going to run my data on 20 epochs."
      ]
    },
    {
      "metadata": {
        "id": "dZWfAMICQ5yU",
        "colab_type": "code",
        "colab": {
          "autoexec": {
            "startup": false,
            "wait_interval": 0
          },
          "base_uri": "https://localhost:8080/",
          "height": 1005
        },
        "outputId": "893c6cd8-c91a-4dce-a405-afa167c32fad",
        "executionInfo": {
          "status": "ok",
          "timestamp": 1526594638919,
          "user_tz": 240,
          "elapsed": 9247,
          "user": {
            "displayName": "Kush Nagpal",
            "photoUrl": "//lh4.googleusercontent.com/-7bx2xE98CTA/AAAAAAAAAAI/AAAAAAAAABs/CuZMTlvv8mg/s50-c-k-no/photo.jpg",
            "userId": "116287702491871222972"
          }
        }
      },
      "cell_type": "code",
      "source": [
        "from keras.models import Sequential\n",
        "\n",
        "from keras.layers import Dense, LSTM, Dropout, Conv1D, MaxPooling1D\n",
        "from keras.layers.embeddings import Embedding\n",
        "from keras.preprocessing import sequence\n",
        "from keras.preprocessing.sequence import pad_sequences\n",
        "\n",
        "kVECTORLEN = 50\n",
        "\n",
        "model = Sequential()\n",
        "model.add(Embedding(5000, 500, input_length=50))\n",
        "model.add(LSTM(125))\n",
        "model.add(Dropout(0.4))\n",
        "model.add(Dense(1, activation='relu'))\n",
        "#model.add(Dense(1, activation='sigmoid'))\n",
        "model.compile(loss='binary_crossentropy', optimizer='adam', metrics=['accuracy'])\n",
        "\n",
        "print(model.summary())\n",
        "\n",
        "\n",
        "#test_sequence\n",
        "\n",
        "train_sequence = sequence.pad_sequences(train_sequence, maxlen=50)\n",
        "test_sequence = sequence.pad_sequences(test_sequence, maxlen=50)\n",
        "\n",
        "history = model.fit(train_sequence, y_train, validation_data=(test_sequence, y_test), epochs=20, batch_size=64)"
      ],
      "execution_count": 0,
      "outputs": [
        {
          "output_type": "stream",
          "text": [
            "_________________________________________________________________\n",
            "Layer (type)                 Output Shape              Param #   \n",
            "=================================================================\n",
            "embedding_6 (Embedding)      (None, 50, 500)           2500000   \n",
            "_________________________________________________________________\n",
            "lstm_6 (LSTM)                (None, 125)               313000    \n",
            "_________________________________________________________________\n",
            "dropout_6 (Dropout)          (None, 125)               0         \n",
            "_________________________________________________________________\n",
            "dense_7 (Dense)              (None, 1)                 126       \n",
            "=================================================================\n",
            "Total params: 2,813,126\n",
            "Trainable params: 2,813,126\n",
            "Non-trainable params: 0\n",
            "_________________________________________________________________\n",
            "None\n",
            "Train on 79 samples, validate on 20 samples\n",
            "Epoch 1/20\n",
            "79/79 [==============================] - 1s 18ms/step - loss: 5.4024 - acc: 0.4430 - val_loss: 1.6573 - val_acc: 0.3500\n",
            "Epoch 2/20\n",
            "79/79 [==============================] - 0s 4ms/step - loss: 1.4112 - acc: 0.4430 - val_loss: 1.1120 - val_acc: 0.3500\n",
            "Epoch 3/20\n",
            "79/79 [==============================] - 0s 4ms/step - loss: 0.9339 - acc: 0.4430 - val_loss: 0.7508 - val_acc: 0.3500\n",
            "Epoch 4/20\n",
            "79/79 [==============================] - 0s 4ms/step - loss: 0.6837 - acc: 0.5063 - val_loss: 0.5324 - val_acc: 0.7500\n",
            "Epoch 5/20\n",
            "79/79 [==============================] - 0s 4ms/step - loss: 0.5717 - acc: 0.7848 - val_loss: 0.5335 - val_acc: 0.7500\n",
            "Epoch 6/20\n",
            "79/79 [==============================] - 0s 4ms/step - loss: 0.4587 - acc: 0.8608 - val_loss: 0.5496 - val_acc: 0.7500\n",
            "Epoch 7/20\n",
            "79/79 [==============================] - 0s 4ms/step - loss: 0.4178 - acc: 0.8861 - val_loss: 0.5642 - val_acc: 0.7500\n",
            "Epoch 8/20\n",
            "79/79 [==============================] - 0s 4ms/step - loss: 0.4131 - acc: 0.8354 - val_loss: 0.5683 - val_acc: 0.7000\n",
            "Epoch 9/20\n",
            "79/79 [==============================] - 0s 4ms/step - loss: 0.3565 - acc: 0.9114 - val_loss: 0.5516 - val_acc: 0.7500\n",
            "Epoch 10/20\n",
            "79/79 [==============================] - 0s 4ms/step - loss: 0.3170 - acc: 0.9367 - val_loss: 0.5282 - val_acc: 0.8500\n",
            "Epoch 11/20\n",
            "79/79 [==============================] - 0s 4ms/step - loss: 0.2819 - acc: 0.9241 - val_loss: 0.5184 - val_acc: 0.8000\n",
            "Epoch 12/20\n",
            "79/79 [==============================] - 0s 4ms/step - loss: 0.2065 - acc: 0.9494 - val_loss: 0.5123 - val_acc: 0.7000\n",
            "Epoch 13/20\n",
            "79/79 [==============================] - 0s 4ms/step - loss: 0.1572 - acc: 0.9494 - val_loss: 0.5299 - val_acc: 0.7000\n",
            "Epoch 14/20\n",
            "79/79 [==============================] - 0s 4ms/step - loss: 0.1588 - acc: 0.9241 - val_loss: 0.5441 - val_acc: 0.6500\n",
            "Epoch 15/20\n",
            "79/79 [==============================] - 0s 4ms/step - loss: 0.1026 - acc: 0.9241 - val_loss: 0.5235 - val_acc: 0.7000\n",
            "Epoch 16/20\n",
            "79/79 [==============================] - 0s 4ms/step - loss: 0.0803 - acc: 0.9747 - val_loss: 0.5163 - val_acc: 0.7500\n",
            "Epoch 17/20\n",
            "79/79 [==============================] - 0s 4ms/step - loss: 0.0504 - acc: 0.9873 - val_loss: 0.5199 - val_acc: 0.8500\n",
            "Epoch 18/20\n",
            "79/79 [==============================] - 0s 4ms/step - loss: 0.0483 - acc: 0.9873 - val_loss: 0.5262 - val_acc: 0.8500\n",
            "Epoch 19/20\n",
            "79/79 [==============================] - 0s 4ms/step - loss: 0.0366 - acc: 0.9873 - val_loss: 0.5321 - val_acc: 0.8000\n",
            "Epoch 20/20\n",
            "79/79 [==============================] - 0s 4ms/step - loss: 0.0188 - acc: 0.9747 - val_loss: 0.5388 - val_acc: 0.8000\n"
          ],
          "name": "stdout"
        }
      ]
    },
    {
      "metadata": {
        "id": "2abACu_BeKE1",
        "colab_type": "code",
        "colab": {
          "autoexec": {
            "startup": false,
            "wait_interval": 0
          },
          "base_uri": "https://localhost:8080/",
          "height": 35
        },
        "outputId": "a784b0cc-e549-4e58-fb37-bffb2e7dc44a",
        "executionInfo": {
          "status": "ok",
          "timestamp": 1526594644564,
          "user_tz": 240,
          "elapsed": 254,
          "user": {
            "displayName": "Kush Nagpal",
            "photoUrl": "//lh4.googleusercontent.com/-7bx2xE98CTA/AAAAAAAAAAI/AAAAAAAAABs/CuZMTlvv8mg/s50-c-k-no/photo.jpg",
            "userId": "116287702491871222972"
          }
        }
      },
      "cell_type": "code",
      "source": [
        "scores = model.evaluate(test_sequence, y_test, verbose=0)\n",
        "accuracy = (scores[1]*100)\n",
        "\n",
        "print(\"Accuracy: {:.2f}%\".format(scores[1]*100))"
      ],
      "execution_count": 0,
      "outputs": [
        {
          "output_type": "stream",
          "text": [
            "Accuracy: 80.00%\n"
          ],
          "name": "stdout"
        }
      ]
    },
    {
      "metadata": {
        "id": "BA6F72rljC1N",
        "colab_type": "text"
      },
      "cell_type": "markdown",
      "source": [
        "# Analyzing the Data\n",
        "\n",
        "I ran my model on 20 epochs with an accuracy of 80%.  This is good considering the fact that blindly guessing results in a probability of about 60% as there is a total of 60% of articles in the csv that are examples of real news.  The accuracy in my model increased from 44% to 97% and my validation accuracy increased from 35% to 80%.  The loss decreased from 5.4 to 0.01 and the val_loss decreased from 1.65 to 0.53.  The graphs below demonstrate the change in accuracy and loss for the training data as well as the validation data.  One thing to note is I only trained 79 out of the 6334 total data entries since I started to receive memory errors when I attempted to train more data."
      ]
    },
    {
      "metadata": {
        "id": "pRBy57Rl4qy6",
        "colab_type": "code",
        "colab": {
          "autoexec": {
            "startup": false,
            "wait_interval": 0
          },
          "base_uri": "https://localhost:8080/",
          "height": 377
        },
        "outputId": "fafa2221-cb20-40ee-b4f4-df5a856608ab",
        "executionInfo": {
          "status": "ok",
          "timestamp": 1526594653421,
          "user_tz": 240,
          "elapsed": 413,
          "user": {
            "displayName": "Kush Nagpal",
            "photoUrl": "//lh4.googleusercontent.com/-7bx2xE98CTA/AAAAAAAAAAI/AAAAAAAAABs/CuZMTlvv8mg/s50-c-k-no/photo.jpg",
            "userId": "116287702491871222972"
          }
        }
      },
      "cell_type": "code",
      "source": [
        "import matplotlib.pyplot as plt\n",
        "\n",
        "plt.plot(history.history['acc'])\n",
        "plt.plot(history.history['val_acc'])\n",
        "plt.title('model accuracy')\n",
        "plt.ylabel('accuracy')\n",
        "plt.xlabel('epoch')\n",
        "plt.legend(['train', 'validation'], loc='upper left')\n",
        "plt.show()"
      ],
      "execution_count": 0,
      "outputs": [
        {
          "output_type": "display_data",
          "data": {
            "image/png": "[encoded data removed]",
            "text/plain": [
              "<matplotlib.figure.Figure at 0x7f2ae7576d30>"
            ]
          },
          "metadata": {
            "tags": []
          }
        }
      ]
    },
    {
      "metadata": {
        "id": "pGvGzDYS4w9b",
        "colab_type": "code",
        "colab": {
          "autoexec": {
            "startup": false,
            "wait_interval": 0
          },
          "base_uri": "https://localhost:8080/",
          "height": 377
        },
        "outputId": "9b7f29eb-8c21-4283-d820-994885705872",
        "executionInfo": {
          "status": "ok",
          "timestamp": 1526594658806,
          "user_tz": 240,
          "elapsed": 368,
          "user": {
            "displayName": "Kush Nagpal",
            "photoUrl": "//lh4.googleusercontent.com/-7bx2xE98CTA/AAAAAAAAAAI/AAAAAAAAABs/CuZMTlvv8mg/s50-c-k-no/photo.jpg",
            "userId": "116287702491871222972"
          }
        }
      },
      "cell_type": "code",
      "source": [
        "plt.plot(history.history['loss'])\n",
        "plt.plot(history.history['val_loss'])\n",
        "plt.title('model loss')\n",
        "plt.ylabel('loss')\n",
        "plt.xlabel('epoch')\n",
        "plt.legend(['train', 'test'], loc='upper left')\n",
        "plt.show()"
      ],
      "execution_count": 0,
      "outputs": [
        {
          "output_type": "display_data",
          "data": {
            "image/png": "[encoded data removed]",
            "text/plain": [
              "<matplotlib.figure.Figure at 0x7f2ae74c1c50>"
            ]
          },
          "metadata": {
            "tags": []
          }
        }
      ]
    }
  ]
}